{
 "cells": [
  {
   "cell_type": "markdown",
   "id": "115b3e43",
   "metadata": {},
   "source": [
    "# Задание 1\n",
    "Напишите функцию, которая классифицирует фильмы из материалов занятия по правилам:\n",
    "\n",
    "оценка 2 и ниже — низкий рейтинг;\n",
    "оценка 4 и ниже — средний рейтинг;\n",
    "оценка 4.5 и 5 — высокий рейтинг.\n",
    "Результат классификации запишите в столбец class.\n",
    "\n",
    "# Задание 2\n",
    "Используйте файл keywords.csv.\n",
    "\n",
    "Нужно написать гео-классификатор, который каждой строке сможет выставить географическую при надлежность определённому региону. Т. е. если поисковый запрос содержит название города региона, то в столбце 'region' пишется название этого региона. Если поисковый запрос не содержит названия города, то ставим 'undefined'.\n",
    "\n",
    "Правила распределения по регионам Центр, Северо-Запад и Дальний Восток:\n",
    "geo_data = {\n",
    "'Центр': ['москва', 'тула', 'ярославль'],\n",
    "'Северо-Запад': ['петербург', 'псков', 'мурманск'],\n",
    "'Дальний Восток': ['владивосток', 'сахалин', 'хабаровск']\n",
    "}\n",
    "\n",
    "Результат классификации запишите в отдельный столбец region."
   ]
  },
  {
   "cell_type": "markdown",
   "id": "d13401d1",
   "metadata": {},
   "source": [
    "### Задание 1"
   ]
  },
  {
   "cell_type": "code",
   "execution_count": 1,
   "id": "8cd32421",
   "metadata": {},
   "outputs": [],
   "source": [
    "import pandas as pd"
   ]
  },
  {
   "cell_type": "markdown",
   "id": "dd468231",
   "metadata": {},
   "source": [
    "Нужно прочитать данные, перебрать рейтинги и в зависимости от выполнения от тех или иных условий дописать в столбец class рейтинг фильма в виде фразы. Проверка условия будет функцией. Каждая сторока передается в функцию и она определяет класс и записывает его в столбец."
   ]
  },
  {
   "cell_type": "code",
   "execution_count": 6,
   "id": "9d06b348",
   "metadata": {},
   "outputs": [
    {
     "data": {
      "text/plain": [
       "<bound method NDFrame.head of         userId  movieId  rating   timestamp            class\n",
       "0            1       31     2.5  1260759144  средний рейтинг\n",
       "1            1     1029     3.0  1260759179  средний рейтинг\n",
       "2            1     1061     3.0  1260759182  средний рейтинг\n",
       "3            1     1129     2.0  1260759185   низкий рейтинг\n",
       "4            1     1172     4.0  1260759205  средний рейтинг\n",
       "...        ...      ...     ...         ...              ...\n",
       "99999      671     6268     2.5  1065579370  средний рейтинг\n",
       "100000     671     6269     4.0  1065149201  средний рейтинг\n",
       "100001     671     6365     4.0  1070940363  средний рейтинг\n",
       "100002     671     6385     2.5  1070979663  средний рейтинг\n",
       "100003     671     6565     3.5  1074784724  средний рейтинг\n",
       "\n",
       "[100004 rows x 5 columns]>"
      ]
     },
     "execution_count": 6,
     "metadata": {},
     "output_type": "execute_result"
    }
   ],
   "source": [
    "df = pd.read_csv('ratings.csv')\n",
    "\n",
    "def class_rating(rating):\n",
    "    if rating <= 2:\n",
    "        return 'низкий рейтинг'\n",
    "    elif 2 < rating <= 4:\n",
    "        return 'средний рейтинг'\n",
    "    elif 4.5 < rating <= 5:\n",
    "        return 'высокий рейтинг'\n",
    "    \n",
    "df['class'] = df['rating'].apply(class_rating)\n",
    "df.head"
   ]
  },
  {
   "cell_type": "markdown",
   "id": "9c98f000",
   "metadata": {},
   "source": [
    "### Задание 2"
   ]
  },
  {
   "cell_type": "markdown",
   "id": "5a2f6c9b",
   "metadata": {},
   "source": [
    "Не помню уже сам додумался или в интернете нашел, что для удобства надо переделать список городов в словарь. Потом пишем функцию, которая перебирает значения городов в результатах ключевых запросов в датафрейме и при совпадении записывает "
   ]
  },
  {
   "cell_type": "code",
   "execution_count": 12,
   "id": "81e47b2f",
   "metadata": {},
   "outputs": [
    {
     "name": "stdout",
     "output_type": "stream",
     "text": [
      "{'москва': 'Центр', 'тула': 'Центр', 'ярославль': 'Центр', 'петербург': 'Северо-Запад', 'псков': 'Северо-Запад', 'мурманск': 'Северо-Запад', 'владивосток': 'Дальний Восток', 'сахалин': 'Дальний Восток', 'хабаровск': 'Дальний Восток'}\n"
     ]
    }
   ],
   "source": [
    "geo_data = {\n",
    "'Центр': ['москва', 'тула', 'ярославль'],\n",
    "'Северо-Запад': ['петербург', 'псков', 'мурманск'],\n",
    "'Дальний Восток': ['владивосток', 'сахалин', 'хабаровск']\n",
    "}\n",
    "\n",
    "geo_data = {city: region for region, cities in geo_data.items() for city in cities} # перевод в словарь\n",
    "#print(geo_data)"
   ]
  },
  {
   "cell_type": "code",
   "execution_count": 7,
   "id": "0542b948",
   "metadata": {},
   "outputs": [
    {
     "data": {
      "text/html": [
       "<div>\n",
       "<style scoped>\n",
       "    .dataframe tbody tr th:only-of-type {\n",
       "        vertical-align: middle;\n",
       "    }\n",
       "\n",
       "    .dataframe tbody tr th {\n",
       "        vertical-align: top;\n",
       "    }\n",
       "\n",
       "    .dataframe thead th {\n",
       "        text-align: right;\n",
       "    }\n",
       "</style>\n",
       "<table border=\"1\" class=\"dataframe\">\n",
       "  <thead>\n",
       "    <tr style=\"text-align: right;\">\n",
       "      <th></th>\n",
       "      <th>keyword</th>\n",
       "      <th>shows</th>\n",
       "    </tr>\n",
       "  </thead>\n",
       "  <tbody>\n",
       "    <tr>\n",
       "      <th>0</th>\n",
       "      <td>вк</td>\n",
       "      <td>64292779</td>\n",
       "    </tr>\n",
       "    <tr>\n",
       "      <th>1</th>\n",
       "      <td>одноклассники</td>\n",
       "      <td>63810309</td>\n",
       "    </tr>\n",
       "    <tr>\n",
       "      <th>2</th>\n",
       "      <td>порно</td>\n",
       "      <td>41747114</td>\n",
       "    </tr>\n",
       "    <tr>\n",
       "      <th>3</th>\n",
       "      <td>ютуб</td>\n",
       "      <td>39995567</td>\n",
       "    </tr>\n",
       "    <tr>\n",
       "      <th>4</th>\n",
       "      <td>вконтакте</td>\n",
       "      <td>21014195</td>\n",
       "    </tr>\n",
       "  </tbody>\n",
       "</table>\n",
       "</div>"
      ],
      "text/plain": [
       "         keyword     shows\n",
       "0             вк  64292779\n",
       "1  одноклассники  63810309\n",
       "2          порно  41747114\n",
       "3           ютуб  39995567\n",
       "4      вконтакте  21014195"
      ]
     },
     "execution_count": 7,
     "metadata": {},
     "output_type": "execute_result"
    }
   ],
   "source": [
    "df = pd.read_csv('keywords.csv')\n",
    "#df.head() чтение данных и беглая проверка \n"
   ]
  },
  {
   "cell_type": "code",
   "execution_count": 16,
   "id": "e683f57b",
   "metadata": {},
   "outputs": [],
   "source": [
    "def assign_region(keyword): # для каждого запроса ищем соотвествие в словаре, если его нет, то возвращаем undefined\n",
    "    for city, region in geo_data.items():\n",
    "        if city in keyword:\n",
    "            return region\n",
    "    return 'undefined'"
   ]
  },
  {
   "cell_type": "code",
   "execution_count": null,
   "id": "1340ab8c",
   "metadata": {},
   "outputs": [],
   "source": [
    "df['region'] = df['keyword'].apply(assign_region) # применяем функцию к датафрейму"
   ]
  },
  {
   "cell_type": "markdown",
   "id": "9bd259c7",
   "metadata": {},
   "source": [
    "Для собственного удобства проверки результатов создаю датафреймы по регионам и смотрю что получилось"
   ]
  },
  {
   "cell_type": "code",
   "execution_count": 37,
   "id": "c1414ac8",
   "metadata": {},
   "outputs": [
    {
     "data": {
      "text/html": [
       "<div>\n",
       "<style scoped>\n",
       "    .dataframe tbody tr th:only-of-type {\n",
       "        vertical-align: middle;\n",
       "    }\n",
       "\n",
       "    .dataframe tbody tr th {\n",
       "        vertical-align: top;\n",
       "    }\n",
       "\n",
       "    .dataframe thead th {\n",
       "        text-align: right;\n",
       "    }\n",
       "</style>\n",
       "<table border=\"1\" class=\"dataframe\">\n",
       "  <thead>\n",
       "    <tr style=\"text-align: right;\">\n",
       "      <th></th>\n",
       "      <th>keyword</th>\n",
       "      <th>shows</th>\n",
       "      <th>region</th>\n",
       "    </tr>\n",
       "  </thead>\n",
       "  <tbody>\n",
       "    <tr>\n",
       "      <th>127</th>\n",
       "      <td>авито москва</td>\n",
       "      <td>979292</td>\n",
       "      <td>Центр</td>\n",
       "    </tr>\n",
       "    <tr>\n",
       "      <th>849</th>\n",
       "      <td>авито ярославль</td>\n",
       "      <td>209581</td>\n",
       "      <td>Центр</td>\n",
       "    </tr>\n",
       "    <tr>\n",
       "      <th>1259</th>\n",
       "      <td>москва</td>\n",
       "      <td>153050</td>\n",
       "      <td>Центр</td>\n",
       "    </tr>\n",
       "    <tr>\n",
       "      <th>1396</th>\n",
       "      <td>гисметео москва</td>\n",
       "      <td>140279</td>\n",
       "      <td>Центр</td>\n",
       "    </tr>\n",
       "    <tr>\n",
       "      <th>1482</th>\n",
       "      <td>госуслуги москва</td>\n",
       "      <td>133061</td>\n",
       "      <td>Центр</td>\n",
       "    </tr>\n",
       "  </tbody>\n",
       "</table>\n",
       "</div>"
      ],
      "text/plain": [
       "               keyword   shows region\n",
       "127       авито москва  979292  Центр\n",
       "849    авито ярославль  209581  Центр\n",
       "1259            москва  153050  Центр\n",
       "1396   гисметео москва  140279  Центр\n",
       "1482  госуслуги москва  133061  Центр"
      ]
     },
     "execution_count": 37,
     "metadata": {},
     "output_type": "execute_result"
    }
   ],
   "source": [
    "df_center = df[df['region'] == 'Центр']\n",
    "df_center.head()"
   ]
  },
  {
   "cell_type": "code",
   "execution_count": 38,
   "id": "f20a33ed",
   "metadata": {},
   "outputs": [
    {
     "data": {
      "text/html": [
       "<div>\n",
       "<style scoped>\n",
       "    .dataframe tbody tr th:only-of-type {\n",
       "        vertical-align: middle;\n",
       "    }\n",
       "\n",
       "    .dataframe tbody tr th {\n",
       "        vertical-align: top;\n",
       "    }\n",
       "\n",
       "    .dataframe thead th {\n",
       "        text-align: right;\n",
       "    }\n",
       "</style>\n",
       "<table border=\"1\" class=\"dataframe\">\n",
       "  <thead>\n",
       "    <tr style=\"text-align: right;\">\n",
       "      <th></th>\n",
       "      <th>keyword</th>\n",
       "      <th>shows</th>\n",
       "      <th>region</th>\n",
       "    </tr>\n",
       "  </thead>\n",
       "  <tbody>\n",
       "    <tr>\n",
       "      <th>370</th>\n",
       "      <td>авито ру санкт петербург</td>\n",
       "      <td>425134</td>\n",
       "      <td>Северо-Запад</td>\n",
       "    </tr>\n",
       "    <tr>\n",
       "      <th>564</th>\n",
       "      <td>погода в санкт петербурге</td>\n",
       "      <td>292489</td>\n",
       "      <td>Северо-Запад</td>\n",
       "    </tr>\n",
       "    <tr>\n",
       "      <th>1236</th>\n",
       "      <td>банк санкт петербург</td>\n",
       "      <td>174375</td>\n",
       "      <td>Северо-Запад</td>\n",
       "    </tr>\n",
       "    <tr>\n",
       "      <th>1346</th>\n",
       "      <td>санкт петербург</td>\n",
       "      <td>144232</td>\n",
       "      <td>Северо-Запад</td>\n",
       "    </tr>\n",
       "    <tr>\n",
       "      <th>2121</th>\n",
       "      <td>электронный дневник санкт петербургского образ...</td>\n",
       "      <td>94835</td>\n",
       "      <td>Северо-Запад</td>\n",
       "    </tr>\n",
       "  </tbody>\n",
       "</table>\n",
       "</div>"
      ],
      "text/plain": [
       "                                                keyword   shows        region\n",
       "370                            авито ру санкт петербург  425134  Северо-Запад\n",
       "564                           погода в санкт петербурге  292489  Северо-Запад\n",
       "1236                               банк санкт петербург  174375  Северо-Запад\n",
       "1346                                    санкт петербург  144232  Северо-Запад\n",
       "2121  электронный дневник санкт петербургского образ...   94835  Северо-Запад"
      ]
     },
     "execution_count": 38,
     "metadata": {},
     "output_type": "execute_result"
    }
   ],
   "source": [
    "df_sz = df[df['region'] == 'Северо-Запад']\n",
    "df_sz.head()"
   ]
  },
  {
   "cell_type": "code",
   "execution_count": 39,
   "id": "e6d37c71",
   "metadata": {},
   "outputs": [
    {
     "data": {
      "text/html": [
       "<div>\n",
       "<style scoped>\n",
       "    .dataframe tbody tr th:only-of-type {\n",
       "        vertical-align: middle;\n",
       "    }\n",
       "\n",
       "    .dataframe tbody tr th {\n",
       "        vertical-align: top;\n",
       "    }\n",
       "\n",
       "    .dataframe thead th {\n",
       "        text-align: right;\n",
       "    }\n",
       "</style>\n",
       "<table border=\"1\" class=\"dataframe\">\n",
       "  <thead>\n",
       "    <tr style=\"text-align: right;\">\n",
       "      <th></th>\n",
       "      <th>keyword</th>\n",
       "      <th>shows</th>\n",
       "      <th>region</th>\n",
       "    </tr>\n",
       "  </thead>\n",
       "  <tbody>\n",
       "    <tr>\n",
       "      <th>1063</th>\n",
       "      <td>фарпост владивосток</td>\n",
       "      <td>176951</td>\n",
       "      <td>Дальний Восток</td>\n",
       "    </tr>\n",
       "    <tr>\n",
       "      <th>2175</th>\n",
       "      <td>дром хабаровск</td>\n",
       "      <td>98361</td>\n",
       "      <td>Дальний Восток</td>\n",
       "    </tr>\n",
       "    <tr>\n",
       "      <th>3206</th>\n",
       "      <td>дром владивосток</td>\n",
       "      <td>73084</td>\n",
       "      <td>Дальний Восток</td>\n",
       "    </tr>\n",
       "    <tr>\n",
       "      <th>3275</th>\n",
       "      <td>100 сп владивосток</td>\n",
       "      <td>76418</td>\n",
       "      <td>Дальний Восток</td>\n",
       "    </tr>\n",
       "    <tr>\n",
       "      <th>3687</th>\n",
       "      <td>авито хабаровск</td>\n",
       "      <td>63736</td>\n",
       "      <td>Дальний Восток</td>\n",
       "    </tr>\n",
       "  </tbody>\n",
       "</table>\n",
       "</div>"
      ],
      "text/plain": [
       "                  keyword   shows          region\n",
       "1063  фарпост владивосток  176951  Дальний Восток\n",
       "2175       дром хабаровск   98361  Дальний Восток\n",
       "3206     дром владивосток   73084  Дальний Восток\n",
       "3275   100 сп владивосток   76418  Дальний Восток\n",
       "3687      авито хабаровск   63736  Дальний Восток"
      ]
     },
     "execution_count": 39,
     "metadata": {},
     "output_type": "execute_result"
    }
   ],
   "source": [
    "df_dv = df[df['region'] == 'Дальний Восток']\n",
    "df_dv.head()"
   ]
  }
 ],
 "metadata": {
  "kernelspec": {
   "display_name": "Python 3",
   "language": "python",
   "name": "python3"
  },
  "language_info": {
   "codemirror_mode": {
    "name": "ipython",
    "version": 3
   },
   "file_extension": ".py",
   "mimetype": "text/x-python",
   "name": "python",
   "nbconvert_exporter": "python",
   "pygments_lexer": "ipython3",
   "version": "3.11.9"
  }
 },
 "nbformat": 4,
 "nbformat_minor": 5
}
